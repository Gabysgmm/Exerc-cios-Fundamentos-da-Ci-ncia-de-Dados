{
 "cells": [
  {
   "cell_type": "markdown",
   "id": "9bb66f52-22b5-467a-a7c6-6bf5fe458a23",
   "metadata": {},
   "source": [
    "# 1. Importando o arquivo csv"
   ]
  },
  {
   "cell_type": "code",
   "execution_count": 2,
   "id": "a4a94da8-1380-43c6-8048-7e3c95134d88",
   "metadata": {
    "tags": []
   },
   "outputs": [
    {
     "data": {
      "text/html": [
       "<div>\n",
       "<style scoped>\n",
       "    .dataframe tbody tr th:only-of-type {\n",
       "        vertical-align: middle;\n",
       "    }\n",
       "\n",
       "    .dataframe tbody tr th {\n",
       "        vertical-align: top;\n",
       "    }\n",
       "\n",
       "    .dataframe thead th {\n",
       "        text-align: right;\n",
       "    }\n",
       "</style>\n",
       "<table border=\"1\" class=\"dataframe\">\n",
       "  <thead>\n",
       "    <tr style=\"text-align: right;\">\n",
       "      <th></th>\n",
       "      <th>Id</th>\n",
       "      <th>Bloco</th>\n",
       "      <th>Andar</th>\n",
       "      <th>Final</th>\n",
       "      <th>Sala</th>\n",
       "      <th>Cozinha</th>\n",
       "      <th>Banheiro</th>\n",
       "      <th>Dorm</th>\n",
       "      <th>Rachadura</th>\n",
       "      <th>Infiltr</th>\n",
       "    </tr>\n",
       "  </thead>\n",
       "  <tbody>\n",
       "    <tr>\n",
       "      <th>0</th>\n",
       "      <td>1</td>\n",
       "      <td>A</td>\n",
       "      <td>1</td>\n",
       "      <td>1</td>\n",
       "      <td>27.8</td>\n",
       "      <td>7.9</td>\n",
       "      <td>5.0</td>\n",
       "      <td>11.6</td>\n",
       "      <td>ausente</td>\n",
       "      <td>ausente</td>\n",
       "    </tr>\n",
       "    <tr>\n",
       "      <th>1</th>\n",
       "      <td>2</td>\n",
       "      <td>A</td>\n",
       "      <td>1</td>\n",
       "      <td>2</td>\n",
       "      <td>28.3</td>\n",
       "      <td>7.3</td>\n",
       "      <td>5.4</td>\n",
       "      <td>13.1</td>\n",
       "      <td>ausente</td>\n",
       "      <td>ausente</td>\n",
       "    </tr>\n",
       "    <tr>\n",
       "      <th>2</th>\n",
       "      <td>3</td>\n",
       "      <td>A</td>\n",
       "      <td>1</td>\n",
       "      <td>3</td>\n",
       "      <td>27.1</td>\n",
       "      <td>7.1</td>\n",
       "      <td>5.0</td>\n",
       "      <td>14.9</td>\n",
       "      <td>ausente</td>\n",
       "      <td>ausente</td>\n",
       "    </tr>\n",
       "    <tr>\n",
       "      <th>3</th>\n",
       "      <td>4</td>\n",
       "      <td>A</td>\n",
       "      <td>1</td>\n",
       "      <td>4</td>\n",
       "      <td>26.5</td>\n",
       "      <td>8.4</td>\n",
       "      <td>3.9</td>\n",
       "      <td>12.4</td>\n",
       "      <td>presente</td>\n",
       "      <td>presente</td>\n",
       "    </tr>\n",
       "    <tr>\n",
       "      <th>4</th>\n",
       "      <td>5</td>\n",
       "      <td>A</td>\n",
       "      <td>2</td>\n",
       "      <td>1</td>\n",
       "      <td>27.7</td>\n",
       "      <td>7.6</td>\n",
       "      <td>4.7</td>\n",
       "      <td>12.1</td>\n",
       "      <td>ausente</td>\n",
       "      <td>ausente</td>\n",
       "    </tr>\n",
       "    <tr>\n",
       "      <th>...</th>\n",
       "      <td>...</td>\n",
       "      <td>...</td>\n",
       "      <td>...</td>\n",
       "      <td>...</td>\n",
       "      <td>...</td>\n",
       "      <td>...</td>\n",
       "      <td>...</td>\n",
       "      <td>...</td>\n",
       "      <td>...</td>\n",
       "      <td>...</td>\n",
       "    </tr>\n",
       "    <tr>\n",
       "      <th>147</th>\n",
       "      <td>148</td>\n",
       "      <td>B</td>\n",
       "      <td>18</td>\n",
       "      <td>4</td>\n",
       "      <td>23.5</td>\n",
       "      <td>7.4</td>\n",
       "      <td>4.3</td>\n",
       "      <td>12.2</td>\n",
       "      <td>ausente</td>\n",
       "      <td>presente</td>\n",
       "    </tr>\n",
       "    <tr>\n",
       "      <th>148</th>\n",
       "      <td>149</td>\n",
       "      <td>B</td>\n",
       "      <td>19</td>\n",
       "      <td>1</td>\n",
       "      <td>24.1</td>\n",
       "      <td>8.3</td>\n",
       "      <td>4.8</td>\n",
       "      <td>12.9</td>\n",
       "      <td>ausente</td>\n",
       "      <td>ausente</td>\n",
       "    </tr>\n",
       "    <tr>\n",
       "      <th>149</th>\n",
       "      <td>150</td>\n",
       "      <td>B</td>\n",
       "      <td>19</td>\n",
       "      <td>2</td>\n",
       "      <td>24.1</td>\n",
       "      <td>8.0</td>\n",
       "      <td>4.5</td>\n",
       "      <td>10.9</td>\n",
       "      <td>ausente</td>\n",
       "      <td>ausente</td>\n",
       "    </tr>\n",
       "    <tr>\n",
       "      <th>150</th>\n",
       "      <td>151</td>\n",
       "      <td>B</td>\n",
       "      <td>19</td>\n",
       "      <td>3</td>\n",
       "      <td>23.0</td>\n",
       "      <td>8.5</td>\n",
       "      <td>4.3</td>\n",
       "      <td>11.7</td>\n",
       "      <td>ausente</td>\n",
       "      <td>presente</td>\n",
       "    </tr>\n",
       "    <tr>\n",
       "      <th>151</th>\n",
       "      <td>152</td>\n",
       "      <td>B</td>\n",
       "      <td>19</td>\n",
       "      <td>4</td>\n",
       "      <td>22.7</td>\n",
       "      <td>7.8</td>\n",
       "      <td>4.2</td>\n",
       "      <td>15.7</td>\n",
       "      <td>ausente</td>\n",
       "      <td>presente</td>\n",
       "    </tr>\n",
       "  </tbody>\n",
       "</table>\n",
       "<p>152 rows × 10 columns</p>\n",
       "</div>"
      ],
      "text/plain": [
       "      Id Bloco  Andar  Final  Sala  Cozinha  Banheiro  Dorm Rachadura  \\\n",
       "0      1     A      1      1  27.8      7.9       5.0  11.6   ausente   \n",
       "1      2     A      1      2  28.3      7.3       5.4  13.1   ausente   \n",
       "2      3     A      1      3  27.1      7.1       5.0  14.9   ausente   \n",
       "3      4     A      1      4  26.5      8.4       3.9  12.4  presente   \n",
       "4      5     A      2      1  27.7      7.6       4.7  12.1   ausente   \n",
       "..   ...   ...    ...    ...   ...      ...       ...   ...       ...   \n",
       "147  148     B     18      4  23.5      7.4       4.3  12.2   ausente   \n",
       "148  149     B     19      1  24.1      8.3       4.8  12.9   ausente   \n",
       "149  150     B     19      2  24.1      8.0       4.5  10.9   ausente   \n",
       "150  151     B     19      3  23.0      8.5       4.3  11.7   ausente   \n",
       "151  152     B     19      4  22.7      7.8       4.2  15.7   ausente   \n",
       "\n",
       "      Infiltr  \n",
       "0     ausente  \n",
       "1     ausente  \n",
       "2     ausente  \n",
       "3    presente  \n",
       "4     ausente  \n",
       "..        ...  \n",
       "147  presente  \n",
       "148   ausente  \n",
       "149   ausente  \n",
       "150  presente  \n",
       "151  presente  \n",
       "\n",
       "[152 rows x 10 columns]"
      ]
     },
     "execution_count": 2,
     "metadata": {},
     "output_type": "execute_result"
    }
   ],
   "source": [
    "import pandas as pd\n",
    "\n",
    "questionario = pd.read_csv(\"C:/Users/20211enpro0343/Downloads/areas.csv\", sep = \";\", decimal = \",\")\n",
    "\n",
    "questionario"
   ]
  },
  {
   "cell_type": "markdown",
   "id": "e0909870-b7d7-4fbf-a521-2493e2627a8f",
   "metadata": {},
   "source": [
    "### 1. a) Qual o número total de apartamentos no empreendimento?"
   ]
  },
  {
   "cell_type": "code",
   "execution_count": 3,
   "id": "4b8a224a-1317-48e9-a7f7-64d44c8a25c1",
   "metadata": {
    "tags": []
   },
   "outputs": [
    {
     "data": {
      "text/plain": [
       "152"
      ]
     },
     "execution_count": 3,
     "metadata": {},
     "output_type": "execute_result"
    }
   ],
   "source": [
    "len(questionario)"
   ]
  },
  {
   "cell_type": "markdown",
   "id": "6716952b-3bb2-4260-913a-3d2328738120",
   "metadata": {},
   "source": [
    "### 1. b)  Quantos apartamentos existem por bloco? "
   ]
  },
  {
   "cell_type": "code",
   "execution_count": 4,
   "id": "223f7d2f-db79-45ba-9fe2-50a433f2d917",
   "metadata": {
    "tags": []
   },
   "outputs": [
    {
     "data": {
      "text/plain": [
       "Bloco\n",
       "A    76\n",
       "B    76\n",
       "Name: count, dtype: int64"
      ]
     },
     "execution_count": 4,
     "metadata": {},
     "output_type": "execute_result"
    }
   ],
   "source": [
    "tabela_bloco = questionario ['Bloco'].value_counts()\n",
    "\n",
    "tabela_bloco"
   ]
  },
  {
   "cell_type": "markdown",
   "id": "67840abe-cf44-4157-a15d-e4e97a3900f3",
   "metadata": {},
   "source": [
    "### 1. c)   Quantos apartamentos existem por andar? "
   ]
  },
  {
   "cell_type": "code",
   "execution_count": 5,
   "id": "12ebca26-eede-49cd-a594-ed78a0c65d1f",
   "metadata": {
    "tags": []
   },
   "outputs": [
    {
     "data": {
      "text/plain": [
       "Andar\n",
       "1     8\n",
       "11    8\n",
       "18    8\n",
       "17    8\n",
       "16    8\n",
       "15    8\n",
       "14    8\n",
       "13    8\n",
       "12    8\n",
       "10    8\n",
       "2     8\n",
       "9     8\n",
       "8     8\n",
       "7     8\n",
       "6     8\n",
       "5     8\n",
       "4     8\n",
       "3     8\n",
       "19    8\n",
       "Name: count, dtype: int64"
      ]
     },
     "execution_count": 5,
     "metadata": {},
     "output_type": "execute_result"
    }
   ],
   "source": [
    "tabela_andar = questionario ['Andar'].value_counts()\n",
    "\n",
    "tabela_andar"
   ]
  },
  {
   "cell_type": "markdown",
   "id": "f8033aba-be22-4ce2-8769-9c01a56322b3",
   "metadata": {
    "tags": []
   },
   "source": [
    "### 2. Existe a suspeita de que os apartamentos tenham sido construídos com metragens diferentes.O arquivo de dados traz as áreas de cada cômodo em separado. Acrescente uma nova colunacalculando a área útil total de cada apartamento.\n"
   ]
  },
  {
   "cell_type": "code",
   "execution_count": 6,
   "id": "f9d202a9-c48a-436e-bdf6-91707153afa6",
   "metadata": {
    "tags": []
   },
   "outputs": [
    {
     "data": {
      "text/html": [
       "<div>\n",
       "<style scoped>\n",
       "    .dataframe tbody tr th:only-of-type {\n",
       "        vertical-align: middle;\n",
       "    }\n",
       "\n",
       "    .dataframe tbody tr th {\n",
       "        vertical-align: top;\n",
       "    }\n",
       "\n",
       "    .dataframe thead th {\n",
       "        text-align: right;\n",
       "    }\n",
       "</style>\n",
       "<table border=\"1\" class=\"dataframe\">\n",
       "  <thead>\n",
       "    <tr style=\"text-align: right;\">\n",
       "      <th></th>\n",
       "      <th>Id</th>\n",
       "      <th>Bloco</th>\n",
       "      <th>Andar</th>\n",
       "      <th>Final</th>\n",
       "      <th>Sala</th>\n",
       "      <th>Cozinha</th>\n",
       "      <th>Banheiro</th>\n",
       "      <th>Dorm</th>\n",
       "      <th>Rachadura</th>\n",
       "      <th>Infiltr</th>\n",
       "      <th>Área util</th>\n",
       "    </tr>\n",
       "  </thead>\n",
       "  <tbody>\n",
       "    <tr>\n",
       "      <th>0</th>\n",
       "      <td>1</td>\n",
       "      <td>A</td>\n",
       "      <td>1</td>\n",
       "      <td>1</td>\n",
       "      <td>27.8</td>\n",
       "      <td>7.9</td>\n",
       "      <td>5.0</td>\n",
       "      <td>11.6</td>\n",
       "      <td>ausente</td>\n",
       "      <td>ausente</td>\n",
       "      <td>52.3</td>\n",
       "    </tr>\n",
       "    <tr>\n",
       "      <th>1</th>\n",
       "      <td>2</td>\n",
       "      <td>A</td>\n",
       "      <td>1</td>\n",
       "      <td>2</td>\n",
       "      <td>28.3</td>\n",
       "      <td>7.3</td>\n",
       "      <td>5.4</td>\n",
       "      <td>13.1</td>\n",
       "      <td>ausente</td>\n",
       "      <td>ausente</td>\n",
       "      <td>54.1</td>\n",
       "    </tr>\n",
       "    <tr>\n",
       "      <th>2</th>\n",
       "      <td>3</td>\n",
       "      <td>A</td>\n",
       "      <td>1</td>\n",
       "      <td>3</td>\n",
       "      <td>27.1</td>\n",
       "      <td>7.1</td>\n",
       "      <td>5.0</td>\n",
       "      <td>14.9</td>\n",
       "      <td>ausente</td>\n",
       "      <td>ausente</td>\n",
       "      <td>54.1</td>\n",
       "    </tr>\n",
       "    <tr>\n",
       "      <th>3</th>\n",
       "      <td>4</td>\n",
       "      <td>A</td>\n",
       "      <td>1</td>\n",
       "      <td>4</td>\n",
       "      <td>26.5</td>\n",
       "      <td>8.4</td>\n",
       "      <td>3.9</td>\n",
       "      <td>12.4</td>\n",
       "      <td>presente</td>\n",
       "      <td>presente</td>\n",
       "      <td>51.2</td>\n",
       "    </tr>\n",
       "    <tr>\n",
       "      <th>4</th>\n",
       "      <td>5</td>\n",
       "      <td>A</td>\n",
       "      <td>2</td>\n",
       "      <td>1</td>\n",
       "      <td>27.7</td>\n",
       "      <td>7.6</td>\n",
       "      <td>4.7</td>\n",
       "      <td>12.1</td>\n",
       "      <td>ausente</td>\n",
       "      <td>ausente</td>\n",
       "      <td>52.1</td>\n",
       "    </tr>\n",
       "    <tr>\n",
       "      <th>...</th>\n",
       "      <td>...</td>\n",
       "      <td>...</td>\n",
       "      <td>...</td>\n",
       "      <td>...</td>\n",
       "      <td>...</td>\n",
       "      <td>...</td>\n",
       "      <td>...</td>\n",
       "      <td>...</td>\n",
       "      <td>...</td>\n",
       "      <td>...</td>\n",
       "      <td>...</td>\n",
       "    </tr>\n",
       "    <tr>\n",
       "      <th>147</th>\n",
       "      <td>148</td>\n",
       "      <td>B</td>\n",
       "      <td>18</td>\n",
       "      <td>4</td>\n",
       "      <td>23.5</td>\n",
       "      <td>7.4</td>\n",
       "      <td>4.3</td>\n",
       "      <td>12.2</td>\n",
       "      <td>ausente</td>\n",
       "      <td>presente</td>\n",
       "      <td>47.4</td>\n",
       "    </tr>\n",
       "    <tr>\n",
       "      <th>148</th>\n",
       "      <td>149</td>\n",
       "      <td>B</td>\n",
       "      <td>19</td>\n",
       "      <td>1</td>\n",
       "      <td>24.1</td>\n",
       "      <td>8.3</td>\n",
       "      <td>4.8</td>\n",
       "      <td>12.9</td>\n",
       "      <td>ausente</td>\n",
       "      <td>ausente</td>\n",
       "      <td>50.1</td>\n",
       "    </tr>\n",
       "    <tr>\n",
       "      <th>149</th>\n",
       "      <td>150</td>\n",
       "      <td>B</td>\n",
       "      <td>19</td>\n",
       "      <td>2</td>\n",
       "      <td>24.1</td>\n",
       "      <td>8.0</td>\n",
       "      <td>4.5</td>\n",
       "      <td>10.9</td>\n",
       "      <td>ausente</td>\n",
       "      <td>ausente</td>\n",
       "      <td>47.5</td>\n",
       "    </tr>\n",
       "    <tr>\n",
       "      <th>150</th>\n",
       "      <td>151</td>\n",
       "      <td>B</td>\n",
       "      <td>19</td>\n",
       "      <td>3</td>\n",
       "      <td>23.0</td>\n",
       "      <td>8.5</td>\n",
       "      <td>4.3</td>\n",
       "      <td>11.7</td>\n",
       "      <td>ausente</td>\n",
       "      <td>presente</td>\n",
       "      <td>47.5</td>\n",
       "    </tr>\n",
       "    <tr>\n",
       "      <th>151</th>\n",
       "      <td>152</td>\n",
       "      <td>B</td>\n",
       "      <td>19</td>\n",
       "      <td>4</td>\n",
       "      <td>22.7</td>\n",
       "      <td>7.8</td>\n",
       "      <td>4.2</td>\n",
       "      <td>15.7</td>\n",
       "      <td>ausente</td>\n",
       "      <td>presente</td>\n",
       "      <td>50.4</td>\n",
       "    </tr>\n",
       "  </tbody>\n",
       "</table>\n",
       "<p>152 rows × 11 columns</p>\n",
       "</div>"
      ],
      "text/plain": [
       "      Id Bloco  Andar  Final  Sala  Cozinha  Banheiro  Dorm Rachadura  \\\n",
       "0      1     A      1      1  27.8      7.9       5.0  11.6   ausente   \n",
       "1      2     A      1      2  28.3      7.3       5.4  13.1   ausente   \n",
       "2      3     A      1      3  27.1      7.1       5.0  14.9   ausente   \n",
       "3      4     A      1      4  26.5      8.4       3.9  12.4  presente   \n",
       "4      5     A      2      1  27.7      7.6       4.7  12.1   ausente   \n",
       "..   ...   ...    ...    ...   ...      ...       ...   ...       ...   \n",
       "147  148     B     18      4  23.5      7.4       4.3  12.2   ausente   \n",
       "148  149     B     19      1  24.1      8.3       4.8  12.9   ausente   \n",
       "149  150     B     19      2  24.1      8.0       4.5  10.9   ausente   \n",
       "150  151     B     19      3  23.0      8.5       4.3  11.7   ausente   \n",
       "151  152     B     19      4  22.7      7.8       4.2  15.7   ausente   \n",
       "\n",
       "      Infiltr  Área util  \n",
       "0     ausente       52.3  \n",
       "1     ausente       54.1  \n",
       "2     ausente       54.1  \n",
       "3    presente       51.2  \n",
       "4     ausente       52.1  \n",
       "..        ...        ...  \n",
       "147  presente       47.4  \n",
       "148   ausente       50.1  \n",
       "149   ausente       47.5  \n",
       "150  presente       47.5  \n",
       "151  presente       50.4  \n",
       "\n",
       "[152 rows x 11 columns]"
      ]
     },
     "execution_count": 6,
     "metadata": {},
     "output_type": "execute_result"
    }
   ],
   "source": [
    "area_util = pd.DataFrame(questionario)\n",
    "\n",
    "area_util[\"Área util\"] = area_util [\"Sala\"] + area_util [\"Cozinha\"] + area_util [\"Banheiro\"] + area_util [\"Dorm\"]   \n",
    "\n",
    "area_util"
   ]
  },
  {
   "cell_type": "markdown",
   "id": "027d3356-d34f-4b4a-8f9f-e9d63bcae03e",
   "metadata": {},
   "source": [
    "### 3. Para a área de cada cômodo e para a área útil total (isto é, para as variáveis quantitativas contínuas), faça um histograma."
   ]
  },
  {
   "cell_type": "code",
   "execution_count": 18,
   "id": "3fa1737a-d9c7-456b-a149-274f21542bd3",
   "metadata": {
    "tags": []
   },
   "outputs": [],
   "source": [
    "import matplotlib.pyplot as plt"
   ]
  },
  {
   "cell_type": "code",
   "execution_count": 47,
   "id": "082ad858-75d1-41bd-9cf2-2e5b546c913e",
   "metadata": {
    "tags": []
   },
   "outputs": [
    {
     "data": {
      "text/plain": [
       "Text(0, 0.5, 'Sala')"
      ]
     },
     "execution_count": 47,
     "metadata": {},
     "output_type": "execute_result"
    },
    {
     "data": {
      "image/png": "[encoded data removed]",
      "text/plain": [
       "<Figure size 640x480 with 1 Axes>"
      ]
     },
     "metadata": {},
     "output_type": "display_data"
    }
   ],
   "source": [
    "plt.hist(questionario['Sala'], bins = 8, color = \"crimson\", edgecolor = \"black\")\n",
    "plt.title(\"Área Sala\")\n",
    "plt.xlabel(\"Área util\")\n",
    "plt.ylabel(\"Sala\")"
   ]
  },
  {
   "cell_type": "code",
   "execution_count": 48,
   "id": "6ab6bdda-aa38-444a-a26d-7f3fea9a5e21",
   "metadata": {
    "tags": []
   },
   "outputs": [
    {
     "data": {
      "text/plain": [
       "Text(0, 0.5, 'Cozinha')"
      ]
     },
     "execution_count": 48,
     "metadata": {},
     "output_type": "execute_result"
    },
    {
     "data": {
      "image/png": "[encoded data removed]",
      "text/plain": [
       "<Figure size 640x480 with 1 Axes>"
      ]
     },
     "metadata": {},
     "output_type": "display_data"
    }
   ],
   "source": [
    "plt.hist(questionario['Cozinha'], bins = 8, color = \"lightcoral\", edgecolor = \"black\")\n",
    "plt.title(\"Área Cozinha\")\n",
    "plt.xlabel(\"Área util\")\n",
    "plt.ylabel(\"Cozinha\")"
   ]
  },
  {
   "cell_type": "code",
   "execution_count": 49,
   "id": "5bce3273-66c5-4457-8ff6-943aeb0488d9",
   "metadata": {
    "tags": []
   },
   "outputs": [
    {
     "data": {
      "text/plain": [
       "Text(0, 0.5, 'Banheiro')"
      ]
     },
     "execution_count": 49,
     "metadata": {},
     "output_type": "execute_result"
    },
    {
     "data": {
      "image/png": "[encoded data removed]",
      "text/plain": [
       "<Figure size 640x480 with 1 Axes>"
      ]
     },
     "metadata": {},
     "output_type": "display_data"
    }
   ],
   "source": [
    "plt.hist(questionario['Banheiro'], bins = 8, color = \"darkturquoise\", edgecolor = \"black\")\n",
    "plt.title(\"Área Banheiro\")\n",
    "plt.xlabel(\"Área util\")\n",
    "plt.ylabel(\"Banheiro\")"
   ]
  },
  {
   "cell_type": "code",
   "execution_count": 51,
   "id": "27997a1a-1e40-4500-9955-3b63d746f611",
   "metadata": {
    "tags": []
   },
   "outputs": [
    {
     "data": {
      "text/plain": [
       "Text(0, 0.5, 'Dorm')"
      ]
     },
     "execution_count": 51,
     "metadata": {},
     "output_type": "execute_result"
    },
    {
     "data": {
      "image/png": "[encoded data removed]",
      "text/plain": [
       "<Figure size 640x480 with 1 Axes>"
      ]
     },
     "metadata": {},
     "output_type": "display_data"
    }
   ],
   "source": [
    "plt.hist(questionario['Dorm'], bins = 8, color = \"tan\", edgecolor = \"black\")\n",
    "plt.title(\"Área Dormitório\")\n",
    "plt.xlabel(\"Área util\")\n",
    "plt.ylabel(\"Dorm\")"
   ]
  },
  {
   "cell_type": "markdown",
   "id": "6ed6e8c8-2942-4cc3-8e9f-700ed71b7c68",
   "metadata": {},
   "source": [
    "### 4. a) Calcule a média e o desvio-padrão da área de cada cômodo e também da área total"
   ]
  },
  {
   "cell_type": "code",
   "execution_count": 28,
   "id": "358df1bc-fc89-4e25-898f-dae943e0b24b",
   "metadata": {
    "tags": []
   },
   "outputs": [
    {
     "data": {
      "text/plain": [
       "25.6125"
      ]
     },
     "execution_count": 28,
     "metadata": {},
     "output_type": "execute_result"
    }
   ],
   "source": [
    "# Média Sala\n",
    "questionario['Sala'].mean()"
   ]
  },
  {
   "cell_type": "code",
   "execution_count": 35,
   "id": "1ea60e48-f130-461d-ba88-44d9e9c72437",
   "metadata": {
    "tags": []
   },
   "outputs": [
    {
     "data": {
      "text/plain": [
       "2.671292380128475"
      ]
     },
     "execution_count": 35,
     "metadata": {},
     "output_type": "execute_result"
    }
   ],
   "source": [
    "# Desvio-padrão Sala\n",
    "questionario['Sala'].std()"
   ]
  },
  {
   "cell_type": "code",
   "execution_count": 29,
   "id": "c6539c60-2f9c-481e-8052-888a0e7c5f88",
   "metadata": {
    "tags": []
   },
   "outputs": [
    {
     "data": {
      "text/plain": [
       "7.905263157894736"
      ]
     },
     "execution_count": 29,
     "metadata": {},
     "output_type": "execute_result"
    }
   ],
   "source": [
    "# Média Cozinha\n",
    "questionario['Cozinha'].mean()"
   ]
  },
  {
   "cell_type": "code",
   "execution_count": 36,
   "id": "471a964d-bb68-4f91-a9ee-356a070e0bba",
   "metadata": {
    "tags": []
   },
   "outputs": [
    {
     "data": {
      "text/plain": [
       "0.5383060841408671"
      ]
     },
     "execution_count": 36,
     "metadata": {},
     "output_type": "execute_result"
    }
   ],
   "source": [
    "# Desvio-padrão Cozinha\n",
    "questionario['Cozinha'].std()"
   ]
  },
  {
   "cell_type": "code",
   "execution_count": 30,
   "id": "aa53d97f-3807-4d45-a83d-9358373fb43a",
   "metadata": {
    "tags": []
   },
   "outputs": [
    {
     "data": {
      "text/plain": [
       "4.457236842105263"
      ]
     },
     "execution_count": 30,
     "metadata": {},
     "output_type": "execute_result"
    }
   ],
   "source": [
    "# Média Banheiro\n",
    "questionario['Banheiro'].mean()"
   ]
  },
  {
   "cell_type": "code",
   "execution_count": 37,
   "id": "7616b59b-f864-4704-b3f7-21899f1fa28a",
   "metadata": {
    "tags": []
   },
   "outputs": [
    {
     "data": {
      "text/plain": [
       "0.48821908740765857"
      ]
     },
     "execution_count": 37,
     "metadata": {},
     "output_type": "execute_result"
    }
   ],
   "source": [
    "# Desvio-padrão Banheiro\n",
    "questionario['Banheiro'].std()"
   ]
  },
  {
   "cell_type": "code",
   "execution_count": 31,
   "id": "cbc4afb6-ded4-4a4b-b994-2a12c22322dc",
   "metadata": {
    "tags": []
   },
   "outputs": [
    {
     "data": {
      "text/plain": [
       "12.939473684210524"
      ]
     },
     "execution_count": 31,
     "metadata": {},
     "output_type": "execute_result"
    }
   ],
   "source": [
    "# Média Dormitório\n",
    "questionario['Dorm'].mean()"
   ]
  },
  {
   "cell_type": "code",
   "execution_count": 38,
   "id": "82f4e1dc-0f92-46fe-a4d0-62527b49871d",
   "metadata": {
    "tags": []
   },
   "outputs": [
    {
     "data": {
      "text/plain": [
       "1.1708466340057073"
      ]
     },
     "execution_count": 38,
     "metadata": {},
     "output_type": "execute_result"
    }
   ],
   "source": [
    "# Desvio-padrão Dormitório\n",
    "questionario['Dorm'].std()"
   ]
  },
  {
   "cell_type": "code",
   "execution_count": 34,
   "id": "4cd5c853-82f4-488d-bf3a-f907eb5c61d0",
   "metadata": {
    "tags": []
   },
   "outputs": [
    {
     "data": {
      "text/plain": [
       "50.91447368421053"
      ]
     },
     "execution_count": 34,
     "metadata": {},
     "output_type": "execute_result"
    }
   ],
   "source": [
    "# Média Área útil\n",
    "area_util['Área util'].mean()"
   ]
  },
  {
   "cell_type": "code",
   "execution_count": 39,
   "id": "257d4b3c-8e53-4bd4-9c97-cee3cf9d5146",
   "metadata": {
    "tags": []
   },
   "outputs": [
    {
     "data": {
      "text/plain": [
       "3.010828314330749"
      ]
     },
     "execution_count": 39,
     "metadata": {},
     "output_type": "execute_result"
    }
   ],
   "source": [
    "# Desvio-padrão Área útil\n",
    "area_util['Área util'].std()"
   ]
  },
  {
   "cell_type": "markdown",
   "id": "dfc7418e-8315-4d47-903b-6a03d23783b4",
   "metadata": {},
   "source": [
    "### 4. b) Construa boxplots e compare as áreas para cada cômodo considerado."
   ]
  },
  {
   "cell_type": "code",
   "execution_count": 7,
   "id": "cf04e619-d16c-44a5-8efb-26adb693ce89",
   "metadata": {
    "tags": []
   },
   "outputs": [],
   "source": [
    "import seaborn as sns"
   ]
  },
  {
   "cell_type": "code",
   "execution_count": 9,
   "id": "e9dcfd3d-61ac-4c7b-b3f2-7acffb123345",
   "metadata": {
    "tags": []
   },
   "outputs": [
    {
     "data": {
      "text/plain": [
       "Bloco\n",
       "A    28.093421\n",
       "B    23.131579\n",
       "Name: Sala, dtype: float64"
      ]
     },
     "execution_count": 9,
     "metadata": {},
     "output_type": "execute_result"
    }
   ],
   "source": [
    "questionario.groupby(['Bloco'])['Sala'].mean()"
   ]
  },
  {
   "cell_type": "code",
   "execution_count": 32,
   "id": "2dfa0140-24c8-4831-9e9f-7c74978b9a5a",
   "metadata": {
    "tags": []
   },
   "outputs": [
    {
     "data": {
      "text/plain": [
       "<Axes: xlabel='Bloco', ylabel='Sala'>"
      ]
     },
     "execution_count": 32,
     "metadata": {},
     "output_type": "execute_result"
    },
    {
     "data": {
      "image/png": "[encoded data removed]",
      "text/plain": [
       "<Figure size 640x480 with 1 Axes>"
      ]
     },
     "metadata": {},
     "output_type": "display_data"
    }
   ],
   "source": [
    "sns.boxplot(x = 'Bloco', y = 'Sala', data = questionario)"
   ]
  },
  {
   "cell_type": "code",
   "execution_count": 10,
   "id": "2cb3bc67-7462-46d5-88bd-4877a3cd3005",
   "metadata": {
    "tags": []
   },
   "outputs": [
    {
     "data": {
      "text/plain": [
       "Bloco\n",
       "A    7.928947\n",
       "B    7.881579\n",
       "Name: Cozinha, dtype: float64"
      ]
     },
     "execution_count": 10,
     "metadata": {},
     "output_type": "execute_result"
    }
   ],
   "source": [
    "questionario.groupby(['Bloco'])['Cozinha'].mean()"
   ]
  },
  {
   "cell_type": "code",
   "execution_count": 11,
   "id": "6ff89bb3-4040-4be9-a8f2-95cb8b356710",
   "metadata": {
    "tags": []
   },
   "outputs": [
    {
     "data": {
      "text/plain": [
       "<Axes: xlabel='Bloco', ylabel='Cozinha'>"
      ]
     },
     "execution_count": 11,
     "metadata": {},
     "output_type": "execute_result"
    },
    {
     "data": {
      "image/png": "[encoded data removed]",
      "text/plain": [
       "<Figure size 640x480 with 1 Axes>"
      ]
     },
     "metadata": {},
     "output_type": "display_data"
    }
   ],
   "source": [
    "sns.boxplot(x = 'Bloco', y = 'Cozinha', data = questionario)"
   ]
  },
  {
   "cell_type": "code",
   "execution_count": 12,
   "id": "8bba461e-1ddd-4035-974a-ffc758ceefbd",
   "metadata": {
    "tags": []
   },
   "outputs": [
    {
     "data": {
      "text/plain": [
       "Bloco\n",
       "A    4.450000\n",
       "B    4.464474\n",
       "Name: Banheiro, dtype: float64"
      ]
     },
     "execution_count": 12,
     "metadata": {},
     "output_type": "execute_result"
    }
   ],
   "source": [
    "    questionario.groupby(['Bloco'])['Banheiro'].mean()"
   ]
  },
  {
   "cell_type": "code",
   "execution_count": 13,
   "id": "05ee187a-20da-4349-91ca-a10f6b0fd41b",
   "metadata": {
    "tags": []
   },
   "outputs": [
    {
     "data": {
      "text/plain": [
       "<Axes: xlabel='Bloco', ylabel='Banheiro'>"
      ]
     },
     "execution_count": 13,
     "metadata": {},
     "output_type": "execute_result"
    },
    {
     "data": {
      "image/png": "[encoded data removed]",
      "text/plain": [
       "<Figure size 640x480 with 1 Axes>"
      ]
     },
     "metadata": {},
     "output_type": "display_data"
    }
   ],
   "source": [
    "sns.boxplot(x = 'Bloco', y = 'Banheiro', data = questionario)"
   ]
  },
  {
   "cell_type": "code",
   "execution_count": 14,
   "id": "edd2afb5-8369-456d-ba08-a1bece8b318b",
   "metadata": {
    "tags": []
   },
   "outputs": [
    {
     "data": {
      "text/plain": [
       "Bloco\n",
       "A    12.950000\n",
       "B    12.928947\n",
       "Name: Dorm, dtype: float64"
      ]
     },
     "execution_count": 14,
     "metadata": {},
     "output_type": "execute_result"
    }
   ],
   "source": [
    "questionario.groupby(['Bloco'])['Dorm'].mean()"
   ]
  },
  {
   "cell_type": "code",
   "execution_count": 15,
   "id": "acf9688b-cb81-4052-b8b9-e9415b809d79",
   "metadata": {
    "tags": []
   },
   "outputs": [
    {
     "data": {
      "text/plain": [
       "<Axes: xlabel='Bloco', ylabel='Dorm'>"
      ]
     },
     "execution_count": 15,
     "metadata": {},
     "output_type": "execute_result"
    },
    {
     "data": {
      "image/png": "[encoded data removed]",
      "text/plain": [
       "<Figure size 640x480 with 1 Axes>"
      ]
     },
     "metadata": {},
     "output_type": "display_data"
    }
   ],
   "source": [
    "sns.boxplot(x = 'Bloco', y = 'Dorm', data = questionario)"
   ]
  },
  {
   "cell_type": "markdown",
   "id": "889faeff-6cc5-4993-afc3-6e7fdd3cdca9",
   "metadata": {},
   "source": [
    "### 4. c) Com base em seus achados, você diria que existem diferenças nas áreas dos apartamentos dos blocos A e B? Em caso positivo, qual (is) cômodo (s) apresenta (m) o problema?\n"
   ]
  },
  {
   "cell_type": "markdown",
   "id": "814fba4c-c5f4-4c7d-97a9-cb44e4562444",
   "metadata": {
    "tags": []
   },
   "source": [
    "#### Sim, é possível observar diferenças entre as áreas dos apartamentos de acordo com os blocos. Em alguns cômodos a diferença é mínima, entretanto na Sala há uma grande diferença, sendo este o cômodo que apresenta a maior diferença de área entre os blocos A e B, onde a média da sala do bloco A é 28, enquanto a área média da sala no bloco B é 23. "
   ]
  }
 ],
 "metadata": {
  "kernelspec": {
   "display_name": "Python 3 (ipykernel)",
   "language": "python",
   "name": "python3"
  },
  "language_info": {
   "codemirror_mode": {
    "name": "ipython",
    "version": 3
   },
   "file_extension": ".py",
   "mimetype": "text/x-python",
   "name": "python",
   "nbconvert_exporter": "python",
   "pygments_lexer": "ipython3",
   "version": "3.11.5"
  }
 },
 "nbformat": 4,
 "nbformat_minor": 5
}
